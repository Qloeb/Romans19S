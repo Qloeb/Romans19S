{
 "cells": [
  {
   "cell_type": "code",
   "execution_count": 1,
   "id": "f75478fb",
   "metadata": {},
   "outputs": [],
   "source": [
    "from bs4 import BeautifulSoup\n",
    "\n",
    "import os"
   ]
  },
  {
   "cell_type": "code",
   "execution_count": 2,
   "id": "037b1225",
   "metadata": {},
   "outputs": [
    {
     "name": "stdout",
     "output_type": "stream",
     "text": [
      "Nombre d'échantillons : 47247\n"
     ]
    }
   ],
   "source": [
    "path = \"data\"\n",
    "textes = []\n",
    "labels = []\n",
    "\n",
    "for file in os.listdir(path):\n",
    "\n",
    "    path_file = os.path.join(path, file)\n",
    "\n",
    "    if os.path.isfile(path_file):\n",
    "\n",
    "        with open(path_file) as fp:\n",
    "            soup = BeautifulSoup(fp, \"html.parser\")\n",
    "\n",
    "        paragraphes = soup.select(\"p\")\n",
    "        for p in paragraphes:\n",
    "            texte = p.get_text()\n",
    "            textes.append(texte)\n",
    "            labels.append(file)\n",
    "\n",
    "print(\"Nombre d'échantillons :\",len(textes))"
   ]
  },
  {
   "cell_type": "code",
   "execution_count": null,
   "id": "2fa5c369",
   "metadata": {},
   "outputs": [],
   "source": []
  }
 ],
 "metadata": {
  "kernelspec": {
   "display_name": "Python 3 (ipykernel)",
   "language": "python",
   "name": "python3"
  },
  "language_info": {
   "codemirror_mode": {
    "name": "ipython",
    "version": 3
   },
   "file_extension": ".py",
   "mimetype": "text/x-python",
   "name": "python",
   "nbconvert_exporter": "python",
   "pygments_lexer": "ipython3",
   "version": "3.9.12"
  }
 },
 "nbformat": 4,
 "nbformat_minor": 5
}
